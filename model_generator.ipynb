{
 "cells": [
  {
   "cell_type": "code",
   "execution_count": 1,
   "id": "95f13e34",
   "metadata": {},
   "outputs": [],
   "source": [
    "import torch"
   ]
  },
  {
   "cell_type": "code",
   "execution_count": 58,
   "id": "0c901d6d",
   "metadata": {},
   "outputs": [],
   "source": [
    "@torch.jit.script\n",
    "def benchmark_model(input_tensor: torch.Tensor):  # input_tensor is a vector consisting of just the batch\n",
    "    # create a modestly-large workload\n",
    "    invented_tensor = torch.arange(8192, device=input_tensor.device, dtype=input_tensor.dtype) # A N-wide vector\n",
    "    matrix = torch.outer(invented_tensor, input_tensor)\n",
    "    self_product = torch.matmul(matrix, torch.transpose(matrix, 0, 1))\n",
    "    for _  in range(8):\n",
    "        self_product = torch.softmax(torch.matmul(self_product, torch.transpose(self_product, 0, 1)), dim=0)\n",
    "    # collapse it down to the same shape as the input\n",
    "    projection_back = torch.arange(8192, device=input_tensor.device, dtype=input_tensor.dtype)\n",
    "    return torch.matmul(self_product, projection_back).flatten()"
   ]
  },
  {
   "cell_type": "code",
   "execution_count": 59,
   "id": "4fc27d46",
   "metadata": {},
   "outputs": [
    {
     "name": "stdout",
     "output_type": "stream",
     "text": [
      "tensor([4095.5000, 4095.5000, 4095.5000,  ..., 4095.5000, 4095.5000,\n",
      "        4095.5000], device='cuda:0')\n",
      "CPU times: user 1.24 s, sys: 122 µs, total: 1.24 s\n",
      "Wall time: 1.35 s\n"
     ]
    }
   ],
   "source": [
    "%time print(benchmark_model(torch.rand(4096, device=\"cuda\", dtype=torch.float32)))"
   ]
  },
  {
   "cell_type": "code",
   "execution_count": 60,
   "id": "e7db0523",
   "metadata": {},
   "outputs": [],
   "source": [
    "torch.jit.save(benchmark_model, \"src/resources/busywork.pt\")"
   ]
  },
  {
   "cell_type": "code",
   "execution_count": 61,
   "id": "0abf8caf",
   "metadata": {},
   "outputs": [],
   "source": [
    "l = torch.jit.load(\"src/resources/busywork.pt\")"
   ]
  },
  {
   "cell_type": "code",
   "execution_count": 62,
   "id": "1896f2e2",
   "metadata": {},
   "outputs": [
    {
     "name": "stdout",
     "output_type": "stream",
     "text": [
      "tensor([4095.5000, 4095.5000, 4095.5000,  ..., 4095.5000, 4095.5000,\n",
      "        4095.5000], device='cuda:0')\n",
      "CPU times: user 1.01 s, sys: 137 µs, total: 1.01 s\n",
      "Wall time: 1.1 s\n"
     ]
    }
   ],
   "source": [
    "%time print(benchmark_model(torch.rand(1000, device=\"cuda\", dtype=torch.float32)))"
   ]
  },
  {
   "cell_type": "code",
   "execution_count": null,
   "id": "86f79d15",
   "metadata": {},
   "outputs": [],
   "source": []
  }
 ],
 "metadata": {
  "kernelspec": {
   "display_name": "Python 3 (ipykernel)",
   "language": "python",
   "name": "python3"
  },
  "language_info": {
   "codemirror_mode": {
    "name": "ipython",
    "version": 3
   },
   "file_extension": ".py",
   "mimetype": "text/x-python",
   "name": "python",
   "nbconvert_exporter": "python",
   "pygments_lexer": "ipython3",
   "version": "3.10.12"
  }
 },
 "nbformat": 4,
 "nbformat_minor": 5
}
