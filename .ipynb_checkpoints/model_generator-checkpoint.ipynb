{
 "cells": [
  {
   "cell_type": "code",
   "execution_count": 1,
   "id": "9f3b28ed",
   "metadata": {},
   "outputs": [],
   "source": [
    "import torch"
   ]
  },
  {
   "cell_type": "code",
   "execution_count": null,
   "id": "18975986",
   "metadata": {},
   "outputs": [],
   "source": [
    "@torch.jit.script\n",
    "def benchmark_model(input_tensor):  # input_tensor is a vector consisting of just the batch\n",
    "    # create a modestly-large workload\n",
    "    invented_tensor = torch.arange(1024) # A N-wide vector\n",
    "    matrix = torch.outer(input_tensor, invented_tensor)\n",
    "    self_product = torch.matmul(matrix, torch.transpose(matrix))"
   ]
  }
 ],
 "metadata": {
  "kernelspec": {
   "display_name": "Python 3 (ipykernel)",
   "language": "python",
   "name": "python3"
  },
  "language_info": {
   "codemirror_mode": {
    "name": "ipython",
    "version": 3
   },
   "file_extension": ".py",
   "mimetype": "text/x-python",
   "name": "python",
   "nbconvert_exporter": "python",
   "pygments_lexer": "ipython3",
   "version": "3.10.12"
  }
 },
 "nbformat": 4,
 "nbformat_minor": 5
}
